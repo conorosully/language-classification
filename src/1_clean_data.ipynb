{
 "cells": [
  {
   "cell_type": "markdown",
   "metadata": {},
   "source": [
    "# Clean Data\n",
    "<br>\n",
    "Clean text dataset and obtain train, valid & test split\n",
    "<br>\n",
    "<b>Dataset:</b> https://downloads.tatoeba.org/exports/"
   ]
  },
  {
   "cell_type": "code",
   "execution_count": 1,
   "metadata": {},
   "outputs": [],
   "source": [
    "import pandas as pd\n",
    "import numpy as np"
   ]
  },
  {
   "cell_type": "code",
   "execution_count": 2,
   "metadata": {},
   "outputs": [
    {
     "name": "stdout",
     "output_type": "stream",
     "text": [
      "5788767\n",
      "314\n"
     ]
    },
    {
     "data": {
      "text/html": [
       "<div>\n",
       "<style scoped>\n",
       "    .dataframe tbody tr th:only-of-type {\n",
       "        vertical-align: middle;\n",
       "    }\n",
       "\n",
       "    .dataframe tbody tr th {\n",
       "        vertical-align: top;\n",
       "    }\n",
       "\n",
       "    .dataframe thead th {\n",
       "        text-align: right;\n",
       "    }\n",
       "</style>\n",
       "<table border=\"1\" class=\"dataframe\">\n",
       "  <thead>\n",
       "    <tr style=\"text-align: right;\">\n",
       "      <th></th>\n",
       "      <th>lang</th>\n",
       "      <th>sent</th>\n",
       "    </tr>\n",
       "  </thead>\n",
       "  <tbody>\n",
       "    <tr>\n",
       "      <th>4</th>\n",
       "      <td>cmn</td>\n",
       "      <td>今天是６月１８号，也是Muiriel的生日！</td>\n",
       "    </tr>\n",
       "    <tr>\n",
       "      <th>20</th>\n",
       "      <td>cmn</td>\n",
       "      <td>选择什么是“对”或“错”是一项艰难的任务，我们却必须要完成它。</td>\n",
       "    </tr>\n",
       "    <tr>\n",
       "      <th>66</th>\n",
       "      <td>cmn</td>\n",
       "      <td>我们看东西不是看其实质，而是以我们的主观意识看它们的。</td>\n",
       "    </tr>\n",
       "    <tr>\n",
       "      <th>70</th>\n",
       "      <td>cmn</td>\n",
       "      <td>生活就是當你忙著進行你的計劃時總有其他的事情發生。</td>\n",
       "    </tr>\n",
       "    <tr>\n",
       "      <th>75</th>\n",
       "      <td>deu</td>\n",
       "      <td>Lass uns etwas versuchen!</td>\n",
       "    </tr>\n",
       "  </tbody>\n",
       "</table>\n",
       "</div>"
      ],
      "text/plain": [
       "   lang                             sent\n",
       "4   cmn           今天是６月１８号，也是Muiriel的生日！\n",
       "20  cmn  选择什么是“对”或“错”是一项艰难的任务，我们却必须要完成它。\n",
       "66  cmn      我们看东西不是看其实质，而是以我们的主观意识看它们的。\n",
       "70  cmn        生活就是當你忙著進行你的計劃時總有其他的事情發生。\n",
       "75  deu        Lass uns etwas versuchen!"
      ]
     },
     "execution_count": 2,
     "metadata": {},
     "output_type": "execute_result"
    }
   ],
   "source": [
    "data_original = pd.read_csv('data/sentences.csv',sep='\\t', encoding='utf8', header = None)\n",
    "data_original.drop([0], axis=1,inplace=True)\n",
    "data_original.columns = ['lang','sent']\n",
    "data_original = data_original[data_original.sent.str.len()<=200]#Only select sentences less that 200 characters\n",
    "data_original = data_original[data_original.sent.str.len()>=20]#Only select sentences greater that 20 characters\n",
    "print(len(data_original)) #5788767 rows\n",
    "print(data_original['lang'].nunique()) #314 unique languages\n",
    "data_original.head()"
   ]
  },
  {
   "cell_type": "code",
   "execution_count": 3,
   "metadata": {},
   "outputs": [
    {
     "name": "stdout",
     "output_type": "stream",
     "text": [
      "2759972\n"
     ]
    },
    {
     "data": {
      "text/html": [
       "<div>\n",
       "<style scoped>\n",
       "    .dataframe tbody tr th:only-of-type {\n",
       "        vertical-align: middle;\n",
       "    }\n",
       "\n",
       "    .dataframe tbody tr th {\n",
       "        vertical-align: top;\n",
       "    }\n",
       "\n",
       "    .dataframe thead th {\n",
       "        text-align: right;\n",
       "    }\n",
       "</style>\n",
       "<table border=\"1\" class=\"dataframe\">\n",
       "  <thead>\n",
       "    <tr style=\"text-align: right;\">\n",
       "      <th></th>\n",
       "      <th>lang</th>\n",
       "      <th>sent</th>\n",
       "    </tr>\n",
       "  </thead>\n",
       "  <tbody>\n",
       "    <tr>\n",
       "      <th>75</th>\n",
       "      <td>deu</td>\n",
       "      <td>Lass uns etwas versuchen!</td>\n",
       "    </tr>\n",
       "    <tr>\n",
       "      <th>76</th>\n",
       "      <td>deu</td>\n",
       "      <td>Ich muss schlafen gehen.</td>\n",
       "    </tr>\n",
       "    <tr>\n",
       "      <th>78</th>\n",
       "      <td>deu</td>\n",
       "      <td>Heute ist der 18. Juni und das ist der Geburts...</td>\n",
       "    </tr>\n",
       "    <tr>\n",
       "      <th>79</th>\n",
       "      <td>deu</td>\n",
       "      <td>Herzlichen Glückwunsch zum Geburtstag, Muiriel!</td>\n",
       "    </tr>\n",
       "    <tr>\n",
       "      <th>80</th>\n",
       "      <td>deu</td>\n",
       "      <td>Muiriel ist jetzt 20.</td>\n",
       "    </tr>\n",
       "  </tbody>\n",
       "</table>\n",
       "</div>"
      ],
      "text/plain": [
       "   lang                                               sent\n",
       "75  deu                          Lass uns etwas versuchen!\n",
       "76  deu                           Ich muss schlafen gehen.\n",
       "78  deu  Heute ist der 18. Juni und das ist der Geburts...\n",
       "79  deu    Herzlichen Glückwunsch zum Geburtstag, Muiriel!\n",
       "80  deu                              Muiriel ist jetzt 20."
      ]
     },
     "execution_count": 3,
     "metadata": {},
     "output_type": "execute_result"
    }
   ],
   "source": [
    "#We want English, German, Russian, Spanish, French, Japanese, Portuguese, Italian\n",
    "lang = ['eng','deu','spa','fra','por','ita']\n",
    "data = data_original[data_original['lang'].isin(lang)]\n",
    "print(len(data)) #2759972 rows\n",
    "data.head()"
   ]
  },
  {
   "cell_type": "code",
   "execution_count": 4,
   "metadata": {},
   "outputs": [
    {
     "data": {
      "text/plain": [
       "eng    966443\n",
       "ita    535320\n",
       "deu    406641\n",
       "fra    331154\n",
       "por    263212\n",
       "spa    257202\n",
       "Name: lang, dtype: int64"
      ]
     },
     "execution_count": 4,
     "metadata": {},
     "output_type": "execute_result"
    }
   ],
   "source": [
    "data['lang'].value_counts()"
   ]
  },
  {
   "cell_type": "code",
   "execution_count": 5,
   "metadata": {},
   "outputs": [
    {
     "data": {
      "text/plain": [
       "fra    50000\n",
       "deu    50000\n",
       "eng    50000\n",
       "por    50000\n",
       "ita    50000\n",
       "spa    50000\n",
       "Name: lang, dtype: int64"
      ]
     },
     "execution_count": 5,
     "metadata": {},
     "output_type": "execute_result"
    }
   ],
   "source": [
    "#Select 50000 rows for each language\n",
    "data_trim = pd.DataFrame(columns=['lang','sent'])\n",
    "data_trim\n",
    "for l in lang:\n",
    "    data_trim = data_trim.append(data[data['lang'] ==l].sample(50000,random_state = 100))\n",
    "data_trim['lang'].value_counts()"
   ]
  },
  {
   "cell_type": "code",
   "execution_count": 6,
   "metadata": {},
   "outputs": [],
   "source": [
    "#Divide data into training, validation and testing\n",
    "from sklearn.model_selection import train_test_split\n",
    "\n",
    "X = data_trim['sent']\n",
    "y = data_trim['lang']\n",
    "X_train, X, y_train, y = train_test_split(X, y, test_size=0.30, random_state=101)\n",
    "X_valid, X_test, y_valid, y_test = train_test_split(X, y, test_size=1/3, random_state=101)\n"
   ]
  },
  {
   "cell_type": "code",
   "execution_count": 9,
   "metadata": {},
   "outputs": [
    {
     "name": "stdout",
     "output_type": "stream",
     "text": [
      "210000 60000 30000\n"
     ]
    }
   ],
   "source": [
    "#save datsets\n",
    "train = pd.concat([pd.Series(y_train),pd.Series(X_train) ], axis=1)\n",
    "valid = pd.concat([pd.Series(y_valid),pd.Series(X_valid) ], axis=1)\n",
    "test = pd.concat([pd.Series(y_test),pd.Series(X_test) ], axis=1)\n",
    "print(len(train), len(valid), len(test))\n",
    "\n",
    "train.to_csv('data/train.csv')\n",
    "valid.to_csv('data/valid.csv')\n",
    "test.to_csv('data/test.csv')\n"
   ]
  }
 ],
 "metadata": {
  "kernelspec": {
   "display_name": "Python 3",
   "language": "python",
   "name": "python3"
  },
  "language_info": {
   "codemirror_mode": {
    "name": "ipython",
    "version": 3
   },
   "file_extension": ".py",
   "mimetype": "text/x-python",
   "name": "python",
   "nbconvert_exporter": "python",
   "pygments_lexer": "ipython3",
   "version": "3.6.8"
  }
 },
 "nbformat": 4,
 "nbformat_minor": 2
}
